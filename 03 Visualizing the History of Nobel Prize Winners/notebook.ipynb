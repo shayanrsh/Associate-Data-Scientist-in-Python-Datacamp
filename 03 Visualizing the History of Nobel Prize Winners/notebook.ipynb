{
 "cells": [
  {
   "source": "The Nobel Prize has been among the most prestigious international awards since 1901. Each year, awards are bestowed in chemistry, literature, physics, physiology or medicine, economics, and peace. In addition to the honor, prestige, and substantial prize money, the recipient also gets a gold medal with an image of Alfred Nobel (1833 - 1896), who established the prize.\n\n![](Nobel_Prize.png)\n\nThe Nobel Foundation has made a dataset available of all prize winners from the outset of the awards from 1901 to 2023. The dataset used in this project is from the Nobel Prize API and is available in the `nobel.csv` file in the `data` folder.\n\nIn this project, you'll get a chance to explore and answer several questions related to this prizewinning data. And we encourage you then to explore further questions that you're interested in!",
   "metadata": {},
   "id": "db5bd2ce-918a-4f7d-a927-a3ea74c4b456",
   "cell_type": "markdown"
  },
  {
   "source": [
    "# Loading in required libraries\n",
    "import pandas as pd\n",
    "import seaborn as sns\n",
    "import numpy as np\n",
    "\n",
    "# Start coding here!"
   ],
   "metadata": {
    "ExecuteTime": {
     "end_time": "2024-05-02T13:33:23.301047Z",
     "start_time": "2024-05-02T13:33:23.298077Z"
    }
   },
   "cell_type": "code",
   "id": "11fd5946-7bd1-495c-aa7f-ff6e7e4a350b",
   "outputs": [],
   "execution_count": 66
  },
  {
   "metadata": {
    "ExecuteTime": {
     "end_time": "2024-05-02T13:33:23.337843Z",
     "start_time": "2024-05-02T13:33:23.318118Z"
    }
   },
   "cell_type": "code",
   "source": [
    "# Load the Nobel Prize dataset\n",
    "df = pd.read_csv('nobel.csv')\n",
    "df.head()"
   ],
   "id": "2844503993b5a031",
   "outputs": [
    {
     "data": {
      "text/plain": [
       "   year    category                                           prize  \\\n",
       "0  1901   Chemistry               The Nobel Prize in Chemistry 1901   \n",
       "1  1901  Literature              The Nobel Prize in Literature 1901   \n",
       "2  1901    Medicine  The Nobel Prize in Physiology or Medicine 1901   \n",
       "3  1901       Peace                      The Nobel Peace Prize 1901   \n",
       "4  1901       Peace                      The Nobel Peace Prize 1901   \n",
       "\n",
       "                                          motivation prize_share  laureate_id  \\\n",
       "0  \"in recognition of the extraordinary services ...         1/1          160   \n",
       "1  \"in special recognition of his poetic composit...         1/1          569   \n",
       "2  \"for his work on serum therapy, especially its...         1/1          293   \n",
       "3                                                NaN         1/2          462   \n",
       "4                                                NaN         1/2          463   \n",
       "\n",
       "  laureate_type                     full_name  birth_date         birth_city  \\\n",
       "0    Individual  Jacobus Henricus van 't Hoff  1852-08-30          Rotterdam   \n",
       "1    Individual               Sully Prudhomme  1839-03-16              Paris   \n",
       "2    Individual        Emil Adolf von Behring  1854-03-15  Hansdorf (Lawice)   \n",
       "3    Individual             Jean Henry Dunant  1828-05-08             Geneva   \n",
       "4    Individual                Frédéric Passy  1822-05-20              Paris   \n",
       "\n",
       "      birth_country   sex   organization_name organization_city  \\\n",
       "0       Netherlands  Male   Berlin University            Berlin   \n",
       "1            France  Male                 NaN               NaN   \n",
       "2  Prussia (Poland)  Male  Marburg University           Marburg   \n",
       "3       Switzerland  Male                 NaN               NaN   \n",
       "4            France  Male                 NaN               NaN   \n",
       "\n",
       "  organization_country  death_date death_city death_country  \n",
       "0              Germany  1911-03-01     Berlin       Germany  \n",
       "1                  NaN  1907-09-07   Châtenay        France  \n",
       "2              Germany  1917-03-31    Marburg       Germany  \n",
       "3                  NaN  1910-10-30     Heiden   Switzerland  \n",
       "4                  NaN  1912-06-12      Paris        France  "
      ],
      "text/html": [
       "<div>\n",
       "<style scoped>\n",
       "    .dataframe tbody tr th:only-of-type {\n",
       "        vertical-align: middle;\n",
       "    }\n",
       "\n",
       "    .dataframe tbody tr th {\n",
       "        vertical-align: top;\n",
       "    }\n",
       "\n",
       "    .dataframe thead th {\n",
       "        text-align: right;\n",
       "    }\n",
       "</style>\n",
       "<table border=\"1\" class=\"dataframe\">\n",
       "  <thead>\n",
       "    <tr style=\"text-align: right;\">\n",
       "      <th></th>\n",
       "      <th>year</th>\n",
       "      <th>category</th>\n",
       "      <th>prize</th>\n",
       "      <th>motivation</th>\n",
       "      <th>prize_share</th>\n",
       "      <th>laureate_id</th>\n",
       "      <th>laureate_type</th>\n",
       "      <th>full_name</th>\n",
       "      <th>birth_date</th>\n",
       "      <th>birth_city</th>\n",
       "      <th>birth_country</th>\n",
       "      <th>sex</th>\n",
       "      <th>organization_name</th>\n",
       "      <th>organization_city</th>\n",
       "      <th>organization_country</th>\n",
       "      <th>death_date</th>\n",
       "      <th>death_city</th>\n",
       "      <th>death_country</th>\n",
       "    </tr>\n",
       "  </thead>\n",
       "  <tbody>\n",
       "    <tr>\n",
       "      <th>0</th>\n",
       "      <td>1901</td>\n",
       "      <td>Chemistry</td>\n",
       "      <td>The Nobel Prize in Chemistry 1901</td>\n",
       "      <td>\"in recognition of the extraordinary services ...</td>\n",
       "      <td>1/1</td>\n",
       "      <td>160</td>\n",
       "      <td>Individual</td>\n",
       "      <td>Jacobus Henricus van 't Hoff</td>\n",
       "      <td>1852-08-30</td>\n",
       "      <td>Rotterdam</td>\n",
       "      <td>Netherlands</td>\n",
       "      <td>Male</td>\n",
       "      <td>Berlin University</td>\n",
       "      <td>Berlin</td>\n",
       "      <td>Germany</td>\n",
       "      <td>1911-03-01</td>\n",
       "      <td>Berlin</td>\n",
       "      <td>Germany</td>\n",
       "    </tr>\n",
       "    <tr>\n",
       "      <th>1</th>\n",
       "      <td>1901</td>\n",
       "      <td>Literature</td>\n",
       "      <td>The Nobel Prize in Literature 1901</td>\n",
       "      <td>\"in special recognition of his poetic composit...</td>\n",
       "      <td>1/1</td>\n",
       "      <td>569</td>\n",
       "      <td>Individual</td>\n",
       "      <td>Sully Prudhomme</td>\n",
       "      <td>1839-03-16</td>\n",
       "      <td>Paris</td>\n",
       "      <td>France</td>\n",
       "      <td>Male</td>\n",
       "      <td>NaN</td>\n",
       "      <td>NaN</td>\n",
       "      <td>NaN</td>\n",
       "      <td>1907-09-07</td>\n",
       "      <td>Châtenay</td>\n",
       "      <td>France</td>\n",
       "    </tr>\n",
       "    <tr>\n",
       "      <th>2</th>\n",
       "      <td>1901</td>\n",
       "      <td>Medicine</td>\n",
       "      <td>The Nobel Prize in Physiology or Medicine 1901</td>\n",
       "      <td>\"for his work on serum therapy, especially its...</td>\n",
       "      <td>1/1</td>\n",
       "      <td>293</td>\n",
       "      <td>Individual</td>\n",
       "      <td>Emil Adolf von Behring</td>\n",
       "      <td>1854-03-15</td>\n",
       "      <td>Hansdorf (Lawice)</td>\n",
       "      <td>Prussia (Poland)</td>\n",
       "      <td>Male</td>\n",
       "      <td>Marburg University</td>\n",
       "      <td>Marburg</td>\n",
       "      <td>Germany</td>\n",
       "      <td>1917-03-31</td>\n",
       "      <td>Marburg</td>\n",
       "      <td>Germany</td>\n",
       "    </tr>\n",
       "    <tr>\n",
       "      <th>3</th>\n",
       "      <td>1901</td>\n",
       "      <td>Peace</td>\n",
       "      <td>The Nobel Peace Prize 1901</td>\n",
       "      <td>NaN</td>\n",
       "      <td>1/2</td>\n",
       "      <td>462</td>\n",
       "      <td>Individual</td>\n",
       "      <td>Jean Henry Dunant</td>\n",
       "      <td>1828-05-08</td>\n",
       "      <td>Geneva</td>\n",
       "      <td>Switzerland</td>\n",
       "      <td>Male</td>\n",
       "      <td>NaN</td>\n",
       "      <td>NaN</td>\n",
       "      <td>NaN</td>\n",
       "      <td>1910-10-30</td>\n",
       "      <td>Heiden</td>\n",
       "      <td>Switzerland</td>\n",
       "    </tr>\n",
       "    <tr>\n",
       "      <th>4</th>\n",
       "      <td>1901</td>\n",
       "      <td>Peace</td>\n",
       "      <td>The Nobel Peace Prize 1901</td>\n",
       "      <td>NaN</td>\n",
       "      <td>1/2</td>\n",
       "      <td>463</td>\n",
       "      <td>Individual</td>\n",
       "      <td>Frédéric Passy</td>\n",
       "      <td>1822-05-20</td>\n",
       "      <td>Paris</td>\n",
       "      <td>France</td>\n",
       "      <td>Male</td>\n",
       "      <td>NaN</td>\n",
       "      <td>NaN</td>\n",
       "      <td>NaN</td>\n",
       "      <td>1912-06-12</td>\n",
       "      <td>Paris</td>\n",
       "      <td>France</td>\n",
       "    </tr>\n",
       "  </tbody>\n",
       "</table>\n",
       "</div>"
      ]
     },
     "execution_count": 67,
     "metadata": {},
     "output_type": "execute_result"
    }
   ],
   "execution_count": 67
  },
  {
   "metadata": {
    "ExecuteTime": {
     "end_time": "2024-05-02T13:33:23.351759Z",
     "start_time": "2024-05-02T13:33:23.347861Z"
    }
   },
   "cell_type": "code",
   "source": [
    "top_gender = df['sex'].value_counts().index[0]\n",
    "print(top_gender)"
   ],
   "id": "8f6c44fd2e096f3a",
   "outputs": [
    {
     "name": "stdout",
     "output_type": "stream",
     "text": [
      "Male\n"
     ]
    }
   ],
   "execution_count": 68
  },
  {
   "metadata": {
    "ExecuteTime": {
     "end_time": "2024-05-02T13:33:23.372083Z",
     "start_time": "2024-05-02T13:33:23.368753Z"
    }
   },
   "cell_type": "code",
   "source": [
    "top_country = df['birth_country'].value_counts().index[0]\n",
    "print(top_country)"
   ],
   "id": "ae200d2c1ce745ae",
   "outputs": [
    {
     "name": "stdout",
     "output_type": "stream",
     "text": [
      "United States of America\n"
     ]
    }
   ],
   "execution_count": 69
  },
  {
   "metadata": {
    "ExecuteTime": {
     "end_time": "2024-05-02T13:33:23.401224Z",
     "start_time": "2024-05-02T13:33:23.393614Z"
    }
   },
   "cell_type": "code",
   "source": [
    "df[\"US-born\"] = df[\"birth_country\"] == \"United States of America\"\n",
    "print(df.head())"
   ],
   "id": "1a6a16103afe22a4",
   "outputs": [
    {
     "name": "stdout",
     "output_type": "stream",
     "text": [
      "   year    category                                           prize  \\\n",
      "0  1901   Chemistry               The Nobel Prize in Chemistry 1901   \n",
      "1  1901  Literature              The Nobel Prize in Literature 1901   \n",
      "2  1901    Medicine  The Nobel Prize in Physiology or Medicine 1901   \n",
      "3  1901       Peace                      The Nobel Peace Prize 1901   \n",
      "4  1901       Peace                      The Nobel Peace Prize 1901   \n",
      "\n",
      "                                          motivation prize_share  laureate_id  \\\n",
      "0  \"in recognition of the extraordinary services ...         1/1          160   \n",
      "1  \"in special recognition of his poetic composit...         1/1          569   \n",
      "2  \"for his work on serum therapy, especially its...         1/1          293   \n",
      "3                                                NaN         1/2          462   \n",
      "4                                                NaN         1/2          463   \n",
      "\n",
      "  laureate_type                     full_name  birth_date         birth_city  \\\n",
      "0    Individual  Jacobus Henricus van 't Hoff  1852-08-30          Rotterdam   \n",
      "1    Individual               Sully Prudhomme  1839-03-16              Paris   \n",
      "2    Individual        Emil Adolf von Behring  1854-03-15  Hansdorf (Lawice)   \n",
      "3    Individual             Jean Henry Dunant  1828-05-08             Geneva   \n",
      "4    Individual                Frédéric Passy  1822-05-20              Paris   \n",
      "\n",
      "      birth_country   sex   organization_name organization_city  \\\n",
      "0       Netherlands  Male   Berlin University            Berlin   \n",
      "1            France  Male                 NaN               NaN   \n",
      "2  Prussia (Poland)  Male  Marburg University           Marburg   \n",
      "3       Switzerland  Male                 NaN               NaN   \n",
      "4            France  Male                 NaN               NaN   \n",
      "\n",
      "  organization_country  death_date death_city death_country  US-born  \n",
      "0              Germany  1911-03-01     Berlin       Germany    False  \n",
      "1                  NaN  1907-09-07   Châtenay        France    False  \n",
      "2              Germany  1917-03-31    Marburg       Germany    False  \n",
      "3                  NaN  1910-10-30     Heiden   Switzerland    False  \n",
      "4                  NaN  1912-06-12      Paris        France    False  \n"
     ]
    }
   ],
   "execution_count": 70
  },
  {
   "metadata": {
    "ExecuteTime": {
     "end_time": "2024-05-02T13:33:23.425553Z",
     "start_time": "2024-05-02T13:33:23.416251Z"
    }
   },
   "cell_type": "code",
   "source": [
    "df[\"decade\"] = (np.floor(df[\"year\"] / 10) * 10).astype(int)\n",
    "print(df.head())"
   ],
   "id": "cf38d2803aa8feca",
   "outputs": [
    {
     "name": "stdout",
     "output_type": "stream",
     "text": [
      "   year    category                                           prize  \\\n",
      "0  1901   Chemistry               The Nobel Prize in Chemistry 1901   \n",
      "1  1901  Literature              The Nobel Prize in Literature 1901   \n",
      "2  1901    Medicine  The Nobel Prize in Physiology or Medicine 1901   \n",
      "3  1901       Peace                      The Nobel Peace Prize 1901   \n",
      "4  1901       Peace                      The Nobel Peace Prize 1901   \n",
      "\n",
      "                                          motivation prize_share  laureate_id  \\\n",
      "0  \"in recognition of the extraordinary services ...         1/1          160   \n",
      "1  \"in special recognition of his poetic composit...         1/1          569   \n",
      "2  \"for his work on serum therapy, especially its...         1/1          293   \n",
      "3                                                NaN         1/2          462   \n",
      "4                                                NaN         1/2          463   \n",
      "\n",
      "  laureate_type                     full_name  birth_date         birth_city  \\\n",
      "0    Individual  Jacobus Henricus van 't Hoff  1852-08-30          Rotterdam   \n",
      "1    Individual               Sully Prudhomme  1839-03-16              Paris   \n",
      "2    Individual        Emil Adolf von Behring  1854-03-15  Hansdorf (Lawice)   \n",
      "3    Individual             Jean Henry Dunant  1828-05-08             Geneva   \n",
      "4    Individual                Frédéric Passy  1822-05-20              Paris   \n",
      "\n",
      "      birth_country   sex   organization_name organization_city  \\\n",
      "0       Netherlands  Male   Berlin University            Berlin   \n",
      "1            France  Male                 NaN               NaN   \n",
      "2  Prussia (Poland)  Male  Marburg University           Marburg   \n",
      "3       Switzerland  Male                 NaN               NaN   \n",
      "4            France  Male                 NaN               NaN   \n",
      "\n",
      "  organization_country  death_date death_city death_country  US-born  decade  \n",
      "0              Germany  1911-03-01     Berlin       Germany    False    1900  \n",
      "1                  NaN  1907-09-07   Châtenay        France    False    1900  \n",
      "2              Germany  1917-03-31    Marburg       Germany    False    1900  \n",
      "3                  NaN  1910-10-30     Heiden   Switzerland    False    1900  \n",
      "4                  NaN  1912-06-12      Paris        France    False    1900  \n"
     ]
    }
   ],
   "execution_count": 71
  },
  {
   "metadata": {
    "ExecuteTime": {
     "end_time": "2024-05-02T13:33:23.505899Z",
     "start_time": "2024-05-02T13:33:23.501732Z"
    }
   },
   "cell_type": "code",
   "source": [
    "us_born_ratio_per_decade = df.groupby(\"decade\")[\"US-born\"].count()\n",
    "print(us_born_ratio_per_decade)"
   ],
   "id": "b21c4b0e65bdec89",
   "outputs": [
    {
     "name": "stdout",
     "output_type": "stream",
     "text": [
      "decade\n",
      "1900     57\n",
      "1910     40\n",
      "1920     54\n",
      "1930     56\n",
      "1940     43\n",
      "1950     72\n",
      "1960     79\n",
      "1970    104\n",
      "1980     97\n",
      "1990    104\n",
      "2000    123\n",
      "2010    121\n",
      "2020     50\n",
      "Name: US-born, dtype: int64\n"
     ]
    }
   ],
   "execution_count": 72
  },
  {
   "metadata": {
    "ExecuteTime": {
     "end_time": "2024-05-02T13:33:23.569470Z",
     "start_time": "2024-05-02T13:33:23.566538Z"
    }
   },
   "cell_type": "code",
   "source": [
    "max_decade_usa = us_born_ratio_per_decade.idxmax()\n",
    "print(max_decade_usa)"
   ],
   "id": "8a15d343eb805436",
   "outputs": [
    {
     "name": "stdout",
     "output_type": "stream",
     "text": [
      "2000\n"
     ]
    }
   ],
   "execution_count": 73
  },
  {
   "metadata": {
    "ExecuteTime": {
     "end_time": "2024-05-02T13:33:23.838897Z",
     "start_time": "2024-05-02T13:33:23.608507Z"
    }
   },
   "cell_type": "code",
   "source": "sns.lineplot(data=us_born_ratio_per_decade)",
   "id": "27c4119093777c1f",
   "outputs": [
    {
     "data": {
      "text/plain": [
       "<Axes: xlabel='decade', ylabel='US-born'>"
      ]
     },
     "execution_count": 74,
     "metadata": {},
     "output_type": "execute_result"
    },
    {
     "data": {
      "text/plain": [
       "<Figure size 640x480 with 1 Axes>"
      ],
      "image/png": "[encoded data removed]"
     },
     "metadata": {},
     "output_type": "display_data"
    }
   ],
   "execution_count": 74
  },
  {
   "metadata": {
    "ExecuteTime": {
     "end_time": "2024-05-02T13:33:23.845777Z",
     "start_time": "2024-05-02T13:33:23.840247Z"
    }
   },
   "cell_type": "code",
   "source": [
    "df['female_winner'] = df['sex'] == 'Female'\n",
    "prop_female_winners = df.groupby(['decade', 'category'], as_index=False)['female_winner'].mean()"
   ],
   "id": "bc8959ea62c942aa",
   "outputs": [],
   "execution_count": 75
  },
  {
   "metadata": {
    "ExecuteTime": {
     "end_time": "2024-05-02T13:33:23.865292Z",
     "start_time": "2024-05-02T13:33:23.846750Z"
    }
   },
   "cell_type": "code",
   "source": "prop_female_winners",
   "id": "cb94399a87d1a6c",
   "outputs": [
    {
     "data": {
      "text/plain": [
       "    decade    category  female_winner\n",
       "0     1900   Chemistry       0.000000\n",
       "1     1900  Literature       0.100000\n",
       "2     1900    Medicine       0.000000\n",
       "3     1900       Peace       0.071429\n",
       "4     1900     Physics       0.076923\n",
       "..     ...         ...            ...\n",
       "67    2020   Economics       0.111111\n",
       "68    2020  Literature       0.500000\n",
       "69    2020    Medicine       0.125000\n",
       "70    2020       Peace       0.285714\n",
       "71    2020     Physics       0.166667\n",
       "\n",
       "[72 rows x 3 columns]"
      ],
      "text/html": [
       "<div>\n",
       "<style scoped>\n",
       "    .dataframe tbody tr th:only-of-type {\n",
       "        vertical-align: middle;\n",
       "    }\n",
       "\n",
       "    .dataframe tbody tr th {\n",
       "        vertical-align: top;\n",
       "    }\n",
       "\n",
       "    .dataframe thead th {\n",
       "        text-align: right;\n",
       "    }\n",
       "</style>\n",
       "<table border=\"1\" class=\"dataframe\">\n",
       "  <thead>\n",
       "    <tr style=\"text-align: right;\">\n",
       "      <th></th>\n",
       "      <th>decade</th>\n",
       "      <th>category</th>\n",
       "      <th>female_winner</th>\n",
       "    </tr>\n",
       "  </thead>\n",
       "  <tbody>\n",
       "    <tr>\n",
       "      <th>0</th>\n",
       "      <td>1900</td>\n",
       "      <td>Chemistry</td>\n",
       "      <td>0.000000</td>\n",
       "    </tr>\n",
       "    <tr>\n",
       "      <th>1</th>\n",
       "      <td>1900</td>\n",
       "      <td>Literature</td>\n",
       "      <td>0.100000</td>\n",
       "    </tr>\n",
       "    <tr>\n",
       "      <th>2</th>\n",
       "      <td>1900</td>\n",
       "      <td>Medicine</td>\n",
       "      <td>0.000000</td>\n",
       "    </tr>\n",
       "    <tr>\n",
       "      <th>3</th>\n",
       "      <td>1900</td>\n",
       "      <td>Peace</td>\n",
       "      <td>0.071429</td>\n",
       "    </tr>\n",
       "    <tr>\n",
       "      <th>4</th>\n",
       "      <td>1900</td>\n",
       "      <td>Physics</td>\n",
       "      <td>0.076923</td>\n",
       "    </tr>\n",
       "    <tr>\n",
       "      <th>...</th>\n",
       "      <td>...</td>\n",
       "      <td>...</td>\n",
       "      <td>...</td>\n",
       "    </tr>\n",
       "    <tr>\n",
       "      <th>67</th>\n",
       "      <td>2020</td>\n",
       "      <td>Economics</td>\n",
       "      <td>0.111111</td>\n",
       "    </tr>\n",
       "    <tr>\n",
       "      <th>68</th>\n",
       "      <td>2020</td>\n",
       "      <td>Literature</td>\n",
       "      <td>0.500000</td>\n",
       "    </tr>\n",
       "    <tr>\n",
       "      <th>69</th>\n",
       "      <td>2020</td>\n",
       "      <td>Medicine</td>\n",
       "      <td>0.125000</td>\n",
       "    </tr>\n",
       "    <tr>\n",
       "      <th>70</th>\n",
       "      <td>2020</td>\n",
       "      <td>Peace</td>\n",
       "      <td>0.285714</td>\n",
       "    </tr>\n",
       "    <tr>\n",
       "      <th>71</th>\n",
       "      <td>2020</td>\n",
       "      <td>Physics</td>\n",
       "      <td>0.166667</td>\n",
       "    </tr>\n",
       "  </tbody>\n",
       "</table>\n",
       "<p>72 rows × 3 columns</p>\n",
       "</div>"
      ]
     },
     "execution_count": 76,
     "metadata": {},
     "output_type": "execute_result"
    }
   ],
   "execution_count": 76
  },
  {
   "metadata": {
    "ExecuteTime": {
     "end_time": "2024-05-02T13:33:23.870655Z",
     "start_time": "2024-05-02T13:33:23.867017Z"
    }
   },
   "cell_type": "code",
   "source": "max_female_decade_category = prop_female_winners[prop_female_winners['female_winner'] == prop_female_winners['female_winner'].max()][['decade', 'category']]",
   "id": "23d630201ac08e87",
   "outputs": [],
   "execution_count": 77
  },
  {
   "metadata": {
    "ExecuteTime": {
     "end_time": "2024-05-02T13:33:23.874522Z",
     "start_time": "2024-05-02T13:33:23.871826Z"
    }
   },
   "cell_type": "code",
   "source": "max_female_dict = {max_female_decade_category['decade'].values[0]: max_female_decade_category['category'].values[0]}",
   "id": "bfdfab7ec1cee326",
   "outputs": [],
   "execution_count": 78
  },
  {
   "metadata": {
    "ExecuteTime": {
     "end_time": "2024-05-02T13:33:24.360667Z",
     "start_time": "2024-05-02T13:33:23.875470Z"
    }
   },
   "cell_type": "code",
   "source": "sns.relplot(x='decade', y='female_winner', hue='category', data=prop_female_winners, kind=\"line\")",
   "id": "f3822d336aa2193f",
   "outputs": [
    {
     "data": {
      "text/plain": [
       "<seaborn.axisgrid.FacetGrid at 0x7fdfad35cf20>"
      ]
     },
     "execution_count": 79,
     "metadata": {},
     "output_type": "execute_result"
    },
    {
     "data": {
      "text/plain": [
       "<Figure size 624.25x500 with 1 Axes>"
      ],
      "image/png": "[encoded data removed]"
     },
     "metadata": {},
     "output_type": "display_data"
    }
   ],
   "execution_count": 79
  },
  {
   "metadata": {
    "ExecuteTime": {
     "end_time": "2024-05-02T13:33:24.366168Z",
     "start_time": "2024-05-02T13:33:24.361573Z"
    }
   },
   "cell_type": "code",
   "source": [
    "# Finding the first woman to win a Nobel Prize\n",
    "nobel_women = df[df['female_winner']]\n",
    "min_row = nobel_women[nobel_women['year'] == nobel_women['year'].min()]\n",
    "first_woman_name = min_row['full_name'].values[0]\n",
    "first_woman_category = min_row['category'].values[0]\n",
    "print(f\"\\n The first woman to win a Nobel Prize was {first_woman_name}, in the category of {first_woman_category}.\")"
   ],
   "id": "1f3abcf75b5746a3",
   "outputs": [
    {
     "name": "stdout",
     "output_type": "stream",
     "text": [
      "\n",
      " The first woman to win a Nobel Prize was Marie Curie, née Sklodowska, in the category of Physics.\n"
     ]
    }
   ],
   "execution_count": 80
  },
  {
   "metadata": {
    "ExecuteTime": {
     "end_time": "2024-05-02T13:33:24.381168Z",
     "start_time": "2024-05-02T13:33:24.367091Z"
    }
   },
   "cell_type": "code",
   "source": [
    "# Selecting the laureates that have received 2 or more prizes\n",
    "counts = df['full_name'].value_counts()\n",
    "repeats = counts[counts >= 2].index\n",
    "repeat_list = list(repeats)\n",
    "\n",
    "print(\"\\n The repeat winners are :\", repeat_list)"
   ],
   "id": "acbc38b5cf17f5c2",
   "outputs": [
    {
     "name": "stdout",
     "output_type": "stream",
     "text": [
      "\n",
      " The repeat winners are : ['Comité international de la Croix Rouge (International Committee of the Red Cross)', 'Linus Carl Pauling', 'John Bardeen', 'Frederick Sanger', 'Marie Curie, née Sklodowska', 'Office of the United Nations High Commissioner for Refugees (UNHCR)']\n"
     ]
    }
   ],
   "execution_count": 81
  },
  {
   "metadata": {
    "ExecuteTime": {
     "end_time": "2024-05-02T13:33:24.383794Z",
     "start_time": "2024-05-02T13:33:24.382048Z"
    }
   },
   "cell_type": "code",
   "source": "",
   "id": "ac3dfd6a4365e4b8",
   "outputs": [],
   "execution_count": 81
  }
 ],
 "metadata": {
  "language_info": {
   "name": "python",
   "version": "3.8.10",
   "mimetype": "text/x-python",
   "codemirror_mode": {
    "name": "ipython",
    "version": 3
   },
   "pygments_lexer": "ipython3",
   "nbconvert_exporter": "python",
   "file_extension": ".py"
  },
  "kernelspec": {
   "display_name": "Python 3 (ipykernel)",
   "language": "python",
   "name": "python3"
  },
  "editor": "DataCamp Workspace"
 },
 "nbformat": 4,
 "nbformat_minor": 5
}
